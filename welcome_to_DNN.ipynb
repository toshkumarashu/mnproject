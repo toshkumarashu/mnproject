{
  "nbformat": 4,
  "nbformat_minor": 0,
  "metadata": {
    "colab": {
      "provenance": [],
      "authorship_tag": "ABX9TyNZ1u6ryjQi4gv8A6eWlg0c",
      "include_colab_link": true
    },
    "kernelspec": {
      "name": "python3",
      "display_name": "Python 3"
    },
    "language_info": {
      "name": "python"
    }
  },
  "cells": [
    {
      "cell_type": "markdown",
      "metadata": {
        "id": "view-in-github",
        "colab_type": "text"
      },
      "source": [
        "<a href=\"https://colab.research.google.com/github/toshkumarashu/mnproject/blob/master/welcome_to_DNN.ipynb\" target=\"_parent\"><img src=\"https://colab.research.google.com/assets/colab-badge.svg\" alt=\"Open In Colab\"/></a>"
      ]
    },
    {
      "cell_type": "code",
      "execution_count": 9,
      "metadata": {
        "id": "2ZU1b8myGz22"
      },
      "outputs": [],
      "source": [
        "import numpy as np\n",
        "class NeuralNetwork():\n",
        "  def __init__(self):\n",
        "    #seeding for random n number generation\n",
        "    np.random.seed(0)\n",
        "    #converting weights to a 3 by 1 matrix with values ranging from -1 to 1 and mean 0\n",
        "    self.synaptic_weights=2*np.random.random((3,1))-1\n",
        "\n",
        "  def sigmoid(self,x):\n",
        "    #applying the sigmoid function\n",
        "    return 1/(1+np.exp(-x))\n",
        "\n",
        "  def sigmoid_derivative(self,x):\n",
        "    return x*(1-x)\n",
        "\n",
        "  def train(self,training_inputs,training_outputs,training_iterations):\n",
        "    for iteration in range(training_iterations):\n",
        "      output=self.think(training_inputs)\n",
        "      error=training_outputs-output\n",
        "      adjustments=np.dot(training_inputs.T,error*self.sigmoid_derivative(output))\n",
        "      self.synaptic_weights+=adjustments\n",
        "\n",
        "\n",
        "  def think(self,inputs):\n",
        "    inputs=inputs.astype(float)\n",
        "    output=self.sigmoid(np.dot(inputs,self.synaptic_weights))\n",
        "    return output\n",
        ""
      ]
    },
    {
      "cell_type": "code",
      "source": [
        "if __name__==\"__main__\":\n",
        "  #intializing the neuron class\n",
        "  neural_network=NeuralNetwork()\n",
        "\n",
        "  print(\"Beginning Randomly Generated Weights\")\n",
        "  print(neural_network.synaptic_weights)\n",
        "  # taining data consists of 4 examples --3 input values and 1 output\n",
        "  training_inputs=np.array([[0,0,1],\n",
        "                            [1,1,1],\n",
        "                            [1,0,1],\n",
        "                            [0,1,1,]])\n",
        "  training_outputs=np.array([[0,1,1,0]]).T\n",
        "\n",
        "  # training taking splace\n",
        "neural_network.train(training_inputs,training_outputs,15000)\n",
        "\n",
        "print(\"Weights after training\")\n",
        "print(neural_network.synaptic_weights)\n",
        "\n",
        "user_input_one=str(input(\"User input one:\"))\n",
        "user_input_two=str(input(\"User input two:\"))\n",
        "user_input_three=str(input(\"User input three:\"))\n",
        "\n",
        "print(\"Considering the new situation: \",user_input_one,user_input_two,user_input_three)\n",
        "print(\"New Output Data\")\n",
        "print(neural_network.think(np.array([user_input_one,user_input_two,user_input_three])))\n",
        "print(\"End.......\")"
      ],
      "metadata": {
        "colab": {
          "base_uri": "https://localhost:8080/"
        },
        "id": "Gq3CTWTiJIA-",
        "outputId": "66bfd210-992b-4931-f551-49d96da3f4cd"
      },
      "execution_count": 13,
      "outputs": [
        {
          "output_type": "stream",
          "name": "stdout",
          "text": [
            "Beginning Randomly Generated Weights\n",
            "[[0.09762701]\n",
            " [0.43037873]\n",
            " [0.20552675]]\n",
            "Weights after training\n",
            "[[10.08727949]\n",
            " [-0.20723041]\n",
            " [-4.83734848]]\n",
            "User input one:1\n",
            "User input two:1\n",
            "User input three:0\n",
            "Considering the new situation:  1 1 0\n",
            "New Output Data\n",
            "[0.99994882]\n",
            "End.......\n"
          ]
        }
      ]
    },
    {
      "cell_type": "code",
      "source": [],
      "metadata": {
        "id": "MSvd8aqgKBxl"
      },
      "execution_count": null,
      "outputs": []
    }
  ]
}